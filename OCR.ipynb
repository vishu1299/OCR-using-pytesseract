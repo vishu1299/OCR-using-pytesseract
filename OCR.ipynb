{
 "cells": [
  {
   "cell_type": "code",
   "execution_count": 2,
   "metadata": {
    "scrolled": true
   },
   "outputs": [
    {
     "name": "stdout",
     "output_type": "stream",
     "text": [
      "enter number of images to be converted to text1\n",
      "adress of 1 imageocr-sample2.png\n"
     ]
    }
   ],
   "source": [
    "# IMAGE TO TEXT USING PYTESSERACT\n",
    "import pytesseract\n",
    "from PIL import Image\n",
    "n = int(input('enter number of images to be converted to text'))\n",
    "for i in range(0,n):\n",
    "    str_n = str(input(f'adress of {i+1} image'))\n",
    "    img = Image.open(str_n)\n",
    "    tesseract_cmd = r'C:\\Program Files (x86)\\Tesseract-OCR\\tesseract'\n",
    "    result = pytesseract.image_to_string(img)\n",
    "    enc = str(result.encode(\"utf-8\"))\n",
    "    with open(f'magic_{i}.txt',mode = 'w') as file:\n",
    "        file.write(enc)"
   ]
  }
 ],
 "metadata": {
  "kernelspec": {
   "display_name": "Python 3",
   "language": "python",
   "name": "python3"
  },
  "language_info": {
   "codemirror_mode": {
    "name": "ipython",
    "version": 3
   },
   "file_extension": ".py",
   "mimetype": "text/x-python",
   "name": "python",
   "nbconvert_exporter": "python",
   "pygments_lexer": "ipython3",
   "version": "3.7.3"
  }
 },
 "nbformat": 4,
 "nbformat_minor": 2
}
